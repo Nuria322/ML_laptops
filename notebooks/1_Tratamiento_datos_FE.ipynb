{
 "cells": [
  {
   "cell_type": "markdown",
   "metadata": {},
   "source": [
    "## 3. Preprocesamiento de Datos Inicial\n",
    "1. Eliminar duplicados si existen\n",
    "2. Tratar valores faltantes:\n",
    "   - Decidir entre eliminar o imputar\n",
    "   - Documentar la estrategia elegida\n",
    "3. Identificar y tratar outliers:\n",
    "   - Análisis estadístico de outliers\n",
    "   - Decidir estrategia (eliminar, transformar o mantener)\n",
    "4. Limpieza general de datos"
   ]
  },
  {
   "cell_type": "code",
   "execution_count": null,
   "metadata": {
    "vscode": {
     "languageId": "plaintext"
    }
   },
   "outputs": [],
   "source": []
  },
  {
   "cell_type": "code",
   "execution_count": null,
   "metadata": {
    "vscode": {
     "languageId": "plaintext"
    }
   },
   "outputs": [],
   "source": []
  },
  {
   "cell_type": "code",
   "execution_count": null,
   "metadata": {
    "vscode": {
     "languageId": "plaintext"
    }
   },
   "outputs": [],
   "source": []
  },
  {
   "cell_type": "code",
   "execution_count": null,
   "metadata": {
    "vscode": {
     "languageId": "plaintext"
    }
   },
   "outputs": [],
   "source": []
  },
  {
   "cell_type": "code",
   "execution_count": null,
   "metadata": {
    "vscode": {
     "languageId": "plaintext"
    }
   },
   "outputs": [],
   "source": []
  },
  {
   "cell_type": "markdown",
   "metadata": {},
   "source": [
    "## 4. Feature Engineering\n",
    "1. Selección inicial de características:\n",
    "   - Análisis de correlaciones\n",
    "   - Importancia de variables\n",
    "2. Creación de nuevas características:\n",
    "   - Combinaciones de variables existentes\n",
    "   - Transformaciones matemáticas\n",
    "3. Aplicación de técnicas no supervisadas (si es necesario):\n",
    "   - PCA para reducción de dimensionalidad\n",
    "   - Clustering para nuevas features"
   ]
  }
 ],
 "metadata": {
  "language_info": {
   "name": "python"
  }
 },
 "nbformat": 4,
 "nbformat_minor": 2
}
