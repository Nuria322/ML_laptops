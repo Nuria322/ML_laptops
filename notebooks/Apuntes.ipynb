{
 "cells": [
  {
   "cell_type": "markdown",
   "metadata": {},
   "source": [
    "## Guía / consejos"
   ]
  },
  {
   "cell_type": "markdown",
   "metadata": {},
   "source": [
    "1. Análisis de los datos\n",
    "2. Pasar el nombre de las columnas a minúsculas para que sea más sencillo nombrarlas\n",
    "3. Cambiar nombres para no tener _ u otros caracteres\n",
    "4. Feature engineer en general (como se considere) dejarlo lo más limpio posible\n",
    "\n",
    "5. Cuando tienes el conjunto de datos lo más limpio posible ya se grafica y se hace el EDA\n"
   ]
  }
 ],
 "metadata": {
  "language_info": {
   "name": "python"
  }
 },
 "nbformat": 4,
 "nbformat_minor": 2
}
