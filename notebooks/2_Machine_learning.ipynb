{
 "cells": [
  {
   "cell_type": "markdown",
   "metadata": {},
   "source": [
    "## Preparación de Datos\n",
    "1. Split de datos:\n",
    "   - Train/Test/Validation\n",
    "   - Mantener estratificación si es necesario\n",
    "2. Procesamiento de variables (fit solo en train):\n",
    "   - Codificación de variables categóricas\n",
    "   - Normalización/Estandarización de variables numéricas\n",
    "3. Balanceo de clases (solo en train si es necesario):\n",
    "   - Oversampling\n",
    "   - Undersampling\n",
    "   - Técnicas híbridas"
   ]
  }
 ],
 "metadata": {
  "language_info": {
   "name": "python"
  }
 },
 "nbformat": 4,
 "nbformat_minor": 2
}
